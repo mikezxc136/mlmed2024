{
 "cells": [
  {
   "cell_type": "code",
   "execution_count": 1,
   "id": "827b7153",
   "metadata": {
    "_cell_guid": "b1076dfc-b9ad-4769-8c92-a6c4dae69d19",
    "_uuid": "8f2839f25d086af736a60e9eeb907d3b93b6e0e5",
    "execution": {
     "iopub.execute_input": "2024-02-18T09:09:16.426730Z",
     "iopub.status.busy": "2024-02-18T09:09:16.426355Z",
     "iopub.status.idle": "2024-02-18T09:09:22.388515Z",
     "shell.execute_reply": "2024-02-18T09:09:22.387671Z"
    },
    "papermill": {
     "duration": 5.988438,
     "end_time": "2024-02-18T09:09:22.390934",
     "exception": false,
     "start_time": "2024-02-18T09:09:16.402496",
     "status": "completed"
    },
    "tags": []
   },
   "outputs": [],
   "source": [
    "import pandas as pd\n",
    "import numpy as np\n",
    "import torch \n",
    "import torch.nn as nn\n",
    "import torch.nn.functional as F\n",
    "import torch.optim as optim\n",
    "from torch.utils.data import TensorDataset, DataLoader, WeightedRandomSampler\n",
    "from sklearn.model_selection import train_test_split\n",
    "import matplotlib.pyplot as plt\n",
    "import seaborn as sns\n",
    "from copy import deepcopy\n",
    "from sklearn.metrics import confusion_matrix\n",
    "from sklearn.metrics import classification_report\n",
    "from torch.optim.lr_scheduler import StepLR"
   ]
  },
  {
   "cell_type": "code",
   "execution_count": 2,
   "id": "7872f535",
   "metadata": {
    "execution": {
     "iopub.execute_input": "2024-02-18T09:09:22.421290Z",
     "iopub.status.busy": "2024-02-18T09:09:22.420415Z",
     "iopub.status.idle": "2024-02-18T09:09:31.013738Z",
     "shell.execute_reply": "2024-02-18T09:09:31.012756Z"
    },
    "papermill": {
     "duration": 8.61072,
     "end_time": "2024-02-18T09:09:31.016142",
     "exception": false,
     "start_time": "2024-02-18T09:09:22.405422",
     "status": "completed"
    },
    "tags": []
   },
   "outputs": [],
   "source": [
    "#load csv files to pandas dataframe\n",
    "train_df = pd.read_csv('/kaggle/input/heartbeat/mitbih_train.csv', header=None)"
   ]
  },
  {
   "cell_type": "code",
   "execution_count": 3,
   "id": "b983e421",
   "metadata": {
    "execution": {
     "iopub.execute_input": "2024-02-18T09:09:31.046494Z",
     "iopub.status.busy": "2024-02-18T09:09:31.046156Z",
     "iopub.status.idle": "2024-02-18T09:09:31.055220Z",
     "shell.execute_reply": "2024-02-18T09:09:31.054402Z"
    },
    "papermill": {
     "duration": 0.027189,
     "end_time": "2024-02-18T09:09:31.057298",
     "exception": false,
     "start_time": "2024-02-18T09:09:31.030109",
     "status": "completed"
    },
    "tags": []
   },
   "outputs": [
    {
     "data": {
      "text/plain": [
       "0    0\n",
       "1    0\n",
       "2    0\n",
       "3    0\n",
       "4    0\n",
       "Name: 187, dtype: int64"
      ]
     },
     "execution_count": 3,
     "metadata": {},
     "output_type": "execute_result"
    }
   ],
   "source": [
    "#the last column is the data label described as category from 0 to 4\n",
    "#so we can use it as a target\n",
    "y_df = train_df.iloc[:, -1]\n",
    "y_df = y_df.astype('int')\n",
    "y_df.head()"
   ]
  },
  {
   "cell_type": "code",
   "execution_count": 4,
   "id": "1fe746a8",
   "metadata": {
    "execution": {
     "iopub.execute_input": "2024-02-18T09:09:31.086521Z",
     "iopub.status.busy": "2024-02-18T09:09:31.086206Z",
     "iopub.status.idle": "2024-02-18T09:09:31.116718Z",
     "shell.execute_reply": "2024-02-18T09:09:31.115783Z"
    },
    "papermill": {
     "duration": 0.047291,
     "end_time": "2024-02-18T09:09:31.118642",
     "exception": false,
     "start_time": "2024-02-18T09:09:31.071351",
     "status": "completed"
    },
    "tags": []
   },
   "outputs": [
    {
     "data": {
      "text/html": [
       "<div>\n",
       "<style scoped>\n",
       "    .dataframe tbody tr th:only-of-type {\n",
       "        vertical-align: middle;\n",
       "    }\n",
       "\n",
       "    .dataframe tbody tr th {\n",
       "        vertical-align: top;\n",
       "    }\n",
       "\n",
       "    .dataframe thead th {\n",
       "        text-align: right;\n",
       "    }\n",
       "</style>\n",
       "<table border=\"1\" class=\"dataframe\">\n",
       "  <thead>\n",
       "    <tr style=\"text-align: right;\">\n",
       "      <th></th>\n",
       "      <th>0</th>\n",
       "      <th>1</th>\n",
       "      <th>2</th>\n",
       "      <th>3</th>\n",
       "      <th>4</th>\n",
       "      <th>5</th>\n",
       "      <th>6</th>\n",
       "      <th>7</th>\n",
       "      <th>8</th>\n",
       "      <th>9</th>\n",
       "      <th>...</th>\n",
       "      <th>177</th>\n",
       "      <th>178</th>\n",
       "      <th>179</th>\n",
       "      <th>180</th>\n",
       "      <th>181</th>\n",
       "      <th>182</th>\n",
       "      <th>183</th>\n",
       "      <th>184</th>\n",
       "      <th>185</th>\n",
       "      <th>186</th>\n",
       "    </tr>\n",
       "  </thead>\n",
       "  <tbody>\n",
       "    <tr>\n",
       "      <th>0</th>\n",
       "      <td>0.977941</td>\n",
       "      <td>0.926471</td>\n",
       "      <td>0.681373</td>\n",
       "      <td>0.245098</td>\n",
       "      <td>0.154412</td>\n",
       "      <td>0.191176</td>\n",
       "      <td>0.151961</td>\n",
       "      <td>0.085784</td>\n",
       "      <td>0.058824</td>\n",
       "      <td>0.049020</td>\n",
       "      <td>...</td>\n",
       "      <td>0.0</td>\n",
       "      <td>0.0</td>\n",
       "      <td>0.0</td>\n",
       "      <td>0.0</td>\n",
       "      <td>0.0</td>\n",
       "      <td>0.0</td>\n",
       "      <td>0.0</td>\n",
       "      <td>0.0</td>\n",
       "      <td>0.0</td>\n",
       "      <td>0.0</td>\n",
       "    </tr>\n",
       "    <tr>\n",
       "      <th>1</th>\n",
       "      <td>0.960114</td>\n",
       "      <td>0.863248</td>\n",
       "      <td>0.461538</td>\n",
       "      <td>0.196581</td>\n",
       "      <td>0.094017</td>\n",
       "      <td>0.125356</td>\n",
       "      <td>0.099715</td>\n",
       "      <td>0.088319</td>\n",
       "      <td>0.074074</td>\n",
       "      <td>0.082621</td>\n",
       "      <td>...</td>\n",
       "      <td>0.0</td>\n",
       "      <td>0.0</td>\n",
       "      <td>0.0</td>\n",
       "      <td>0.0</td>\n",
       "      <td>0.0</td>\n",
       "      <td>0.0</td>\n",
       "      <td>0.0</td>\n",
       "      <td>0.0</td>\n",
       "      <td>0.0</td>\n",
       "      <td>0.0</td>\n",
       "    </tr>\n",
       "    <tr>\n",
       "      <th>2</th>\n",
       "      <td>1.000000</td>\n",
       "      <td>0.659459</td>\n",
       "      <td>0.186486</td>\n",
       "      <td>0.070270</td>\n",
       "      <td>0.070270</td>\n",
       "      <td>0.059459</td>\n",
       "      <td>0.056757</td>\n",
       "      <td>0.043243</td>\n",
       "      <td>0.054054</td>\n",
       "      <td>0.045946</td>\n",
       "      <td>...</td>\n",
       "      <td>0.0</td>\n",
       "      <td>0.0</td>\n",
       "      <td>0.0</td>\n",
       "      <td>0.0</td>\n",
       "      <td>0.0</td>\n",
       "      <td>0.0</td>\n",
       "      <td>0.0</td>\n",
       "      <td>0.0</td>\n",
       "      <td>0.0</td>\n",
       "      <td>0.0</td>\n",
       "    </tr>\n",
       "    <tr>\n",
       "      <th>3</th>\n",
       "      <td>0.925414</td>\n",
       "      <td>0.665746</td>\n",
       "      <td>0.541436</td>\n",
       "      <td>0.276243</td>\n",
       "      <td>0.196133</td>\n",
       "      <td>0.077348</td>\n",
       "      <td>0.071823</td>\n",
       "      <td>0.060773</td>\n",
       "      <td>0.066298</td>\n",
       "      <td>0.058011</td>\n",
       "      <td>...</td>\n",
       "      <td>0.0</td>\n",
       "      <td>0.0</td>\n",
       "      <td>0.0</td>\n",
       "      <td>0.0</td>\n",
       "      <td>0.0</td>\n",
       "      <td>0.0</td>\n",
       "      <td>0.0</td>\n",
       "      <td>0.0</td>\n",
       "      <td>0.0</td>\n",
       "      <td>0.0</td>\n",
       "    </tr>\n",
       "    <tr>\n",
       "      <th>4</th>\n",
       "      <td>0.967136</td>\n",
       "      <td>1.000000</td>\n",
       "      <td>0.830986</td>\n",
       "      <td>0.586854</td>\n",
       "      <td>0.356808</td>\n",
       "      <td>0.248826</td>\n",
       "      <td>0.145540</td>\n",
       "      <td>0.089202</td>\n",
       "      <td>0.117371</td>\n",
       "      <td>0.150235</td>\n",
       "      <td>...</td>\n",
       "      <td>0.0</td>\n",
       "      <td>0.0</td>\n",
       "      <td>0.0</td>\n",
       "      <td>0.0</td>\n",
       "      <td>0.0</td>\n",
       "      <td>0.0</td>\n",
       "      <td>0.0</td>\n",
       "      <td>0.0</td>\n",
       "      <td>0.0</td>\n",
       "      <td>0.0</td>\n",
       "    </tr>\n",
       "  </tbody>\n",
       "</table>\n",
       "<p>5 rows × 187 columns</p>\n",
       "</div>"
      ],
      "text/plain": [
       "        0         1         2         3         4         5         6    \\\n",
       "0  0.977941  0.926471  0.681373  0.245098  0.154412  0.191176  0.151961   \n",
       "1  0.960114  0.863248  0.461538  0.196581  0.094017  0.125356  0.099715   \n",
       "2  1.000000  0.659459  0.186486  0.070270  0.070270  0.059459  0.056757   \n",
       "3  0.925414  0.665746  0.541436  0.276243  0.196133  0.077348  0.071823   \n",
       "4  0.967136  1.000000  0.830986  0.586854  0.356808  0.248826  0.145540   \n",
       "\n",
       "        7         8         9    ...  177  178  179  180  181  182  183  184  \\\n",
       "0  0.085784  0.058824  0.049020  ...  0.0  0.0  0.0  0.0  0.0  0.0  0.0  0.0   \n",
       "1  0.088319  0.074074  0.082621  ...  0.0  0.0  0.0  0.0  0.0  0.0  0.0  0.0   \n",
       "2  0.043243  0.054054  0.045946  ...  0.0  0.0  0.0  0.0  0.0  0.0  0.0  0.0   \n",
       "3  0.060773  0.066298  0.058011  ...  0.0  0.0  0.0  0.0  0.0  0.0  0.0  0.0   \n",
       "4  0.089202  0.117371  0.150235  ...  0.0  0.0  0.0  0.0  0.0  0.0  0.0  0.0   \n",
       "\n",
       "   185  186  \n",
       "0  0.0  0.0  \n",
       "1  0.0  0.0  \n",
       "2  0.0  0.0  \n",
       "3  0.0  0.0  \n",
       "4  0.0  0.0  \n",
       "\n",
       "[5 rows x 187 columns]"
      ]
     },
     "execution_count": 4,
     "metadata": {},
     "output_type": "execute_result"
    }
   ],
   "source": [
    "#the rest are the ecg datapoints so we use them as features\n",
    "X_df = train_df.iloc[:, :-1]\n",
    "X_df.head()"
   ]
  },
  {
   "cell_type": "code",
   "execution_count": 5,
   "id": "a4296b1c",
   "metadata": {
    "execution": {
     "iopub.execute_input": "2024-02-18T09:09:31.149206Z",
     "iopub.status.busy": "2024-02-18T09:09:31.148822Z",
     "iopub.status.idle": "2024-02-18T09:09:31.221035Z",
     "shell.execute_reply": "2024-02-18T09:09:31.220115Z"
    },
    "papermill": {
     "duration": 0.090207,
     "end_time": "2024-02-18T09:09:31.223338",
     "exception": false,
     "start_time": "2024-02-18T09:09:31.133131",
     "status": "completed"
    },
    "tags": []
   },
   "outputs": [
    {
     "data": {
      "text/html": [
       "<div>\n",
       "<style scoped>\n",
       "    .dataframe tbody tr th:only-of-type {\n",
       "        vertical-align: middle;\n",
       "    }\n",
       "\n",
       "    .dataframe tbody tr th {\n",
       "        vertical-align: top;\n",
       "    }\n",
       "\n",
       "    .dataframe thead th {\n",
       "        text-align: right;\n",
       "    }\n",
       "</style>\n",
       "<table border=\"1\" class=\"dataframe\">\n",
       "  <thead>\n",
       "    <tr style=\"text-align: right;\">\n",
       "      <th></th>\n",
       "      <th>0</th>\n",
       "      <th>1</th>\n",
       "      <th>2</th>\n",
       "      <th>3</th>\n",
       "      <th>4</th>\n",
       "      <th>5</th>\n",
       "      <th>6</th>\n",
       "      <th>7</th>\n",
       "      <th>8</th>\n",
       "      <th>9</th>\n",
       "      <th>...</th>\n",
       "      <th>177</th>\n",
       "      <th>178</th>\n",
       "      <th>179</th>\n",
       "      <th>180</th>\n",
       "      <th>181</th>\n",
       "      <th>182</th>\n",
       "      <th>183</th>\n",
       "      <th>184</th>\n",
       "      <th>185</th>\n",
       "      <th>186</th>\n",
       "    </tr>\n",
       "  </thead>\n",
       "  <tbody>\n",
       "    <tr>\n",
       "      <th>0</th>\n",
       "      <td>0.977941</td>\n",
       "      <td>0.926471</td>\n",
       "      <td>0.681373</td>\n",
       "      <td>0.245098</td>\n",
       "      <td>0.154412</td>\n",
       "      <td>0.191176</td>\n",
       "      <td>0.151961</td>\n",
       "      <td>0.085784</td>\n",
       "      <td>0.058824</td>\n",
       "      <td>0.049020</td>\n",
       "      <td>...</td>\n",
       "      <td>0.0</td>\n",
       "      <td>0.0</td>\n",
       "      <td>0.0</td>\n",
       "      <td>0.0</td>\n",
       "      <td>0.0</td>\n",
       "      <td>0.0</td>\n",
       "      <td>0.0</td>\n",
       "      <td>0.0</td>\n",
       "      <td>0.0</td>\n",
       "      <td>0.0</td>\n",
       "    </tr>\n",
       "    <tr>\n",
       "      <th>1</th>\n",
       "      <td>0.960114</td>\n",
       "      <td>0.863248</td>\n",
       "      <td>0.461538</td>\n",
       "      <td>0.196581</td>\n",
       "      <td>0.094017</td>\n",
       "      <td>0.125356</td>\n",
       "      <td>0.099715</td>\n",
       "      <td>0.088319</td>\n",
       "      <td>0.074074</td>\n",
       "      <td>0.082621</td>\n",
       "      <td>...</td>\n",
       "      <td>0.0</td>\n",
       "      <td>0.0</td>\n",
       "      <td>0.0</td>\n",
       "      <td>0.0</td>\n",
       "      <td>0.0</td>\n",
       "      <td>0.0</td>\n",
       "      <td>0.0</td>\n",
       "      <td>0.0</td>\n",
       "      <td>0.0</td>\n",
       "      <td>0.0</td>\n",
       "    </tr>\n",
       "    <tr>\n",
       "      <th>2</th>\n",
       "      <td>1.000000</td>\n",
       "      <td>0.659459</td>\n",
       "      <td>0.186486</td>\n",
       "      <td>0.070270</td>\n",
       "      <td>0.070270</td>\n",
       "      <td>0.059459</td>\n",
       "      <td>0.056757</td>\n",
       "      <td>0.043243</td>\n",
       "      <td>0.054054</td>\n",
       "      <td>0.045946</td>\n",
       "      <td>...</td>\n",
       "      <td>0.0</td>\n",
       "      <td>0.0</td>\n",
       "      <td>0.0</td>\n",
       "      <td>0.0</td>\n",
       "      <td>0.0</td>\n",
       "      <td>0.0</td>\n",
       "      <td>0.0</td>\n",
       "      <td>0.0</td>\n",
       "      <td>0.0</td>\n",
       "      <td>0.0</td>\n",
       "    </tr>\n",
       "    <tr>\n",
       "      <th>3</th>\n",
       "      <td>0.925414</td>\n",
       "      <td>0.665746</td>\n",
       "      <td>0.541436</td>\n",
       "      <td>0.276243</td>\n",
       "      <td>0.196133</td>\n",
       "      <td>0.077348</td>\n",
       "      <td>0.071823</td>\n",
       "      <td>0.060773</td>\n",
       "      <td>0.066298</td>\n",
       "      <td>0.058011</td>\n",
       "      <td>...</td>\n",
       "      <td>0.0</td>\n",
       "      <td>0.0</td>\n",
       "      <td>0.0</td>\n",
       "      <td>0.0</td>\n",
       "      <td>0.0</td>\n",
       "      <td>0.0</td>\n",
       "      <td>0.0</td>\n",
       "      <td>0.0</td>\n",
       "      <td>0.0</td>\n",
       "      <td>0.0</td>\n",
       "    </tr>\n",
       "    <tr>\n",
       "      <th>4</th>\n",
       "      <td>0.967136</td>\n",
       "      <td>1.000000</td>\n",
       "      <td>0.830986</td>\n",
       "      <td>0.586854</td>\n",
       "      <td>0.356808</td>\n",
       "      <td>0.248826</td>\n",
       "      <td>0.145540</td>\n",
       "      <td>0.089202</td>\n",
       "      <td>0.117371</td>\n",
       "      <td>0.150235</td>\n",
       "      <td>...</td>\n",
       "      <td>0.0</td>\n",
       "      <td>0.0</td>\n",
       "      <td>0.0</td>\n",
       "      <td>0.0</td>\n",
       "      <td>0.0</td>\n",
       "      <td>0.0</td>\n",
       "      <td>0.0</td>\n",
       "      <td>0.0</td>\n",
       "      <td>0.0</td>\n",
       "      <td>0.0</td>\n",
       "    </tr>\n",
       "  </tbody>\n",
       "</table>\n",
       "<p>5 rows × 187 columns</p>\n",
       "</div>"
      ],
      "text/plain": [
       "        0         1         2         3         4         5         6    \\\n",
       "0  0.977941  0.926471  0.681373  0.245098  0.154412  0.191176  0.151961   \n",
       "1  0.960114  0.863248  0.461538  0.196581  0.094017  0.125356  0.099715   \n",
       "2  1.000000  0.659459  0.186486  0.070270  0.070270  0.059459  0.056757   \n",
       "3  0.925414  0.665746  0.541436  0.276243  0.196133  0.077348  0.071823   \n",
       "4  0.967136  1.000000  0.830986  0.586854  0.356808  0.248826  0.145540   \n",
       "\n",
       "        7         8         9    ...  177  178  179  180  181  182  183  184  \\\n",
       "0  0.085784  0.058824  0.049020  ...  0.0  0.0  0.0  0.0  0.0  0.0  0.0  0.0   \n",
       "1  0.088319  0.074074  0.082621  ...  0.0  0.0  0.0  0.0  0.0  0.0  0.0  0.0   \n",
       "2  0.043243  0.054054  0.045946  ...  0.0  0.0  0.0  0.0  0.0  0.0  0.0  0.0   \n",
       "3  0.060773  0.066298  0.058011  ...  0.0  0.0  0.0  0.0  0.0  0.0  0.0  0.0   \n",
       "4  0.089202  0.117371  0.150235  ...  0.0  0.0  0.0  0.0  0.0  0.0  0.0  0.0   \n",
       "\n",
       "   185  186  \n",
       "0  0.0  0.0  \n",
       "1  0.0  0.0  \n",
       "2  0.0  0.0  \n",
       "3  0.0  0.0  \n",
       "4  0.0  0.0  \n",
       "\n",
       "[5 rows x 187 columns]"
      ]
     },
     "execution_count": 5,
     "metadata": {},
     "output_type": "execute_result"
    }
   ],
   "source": [
    "#convert all feautures to float type\n",
    "X_df = X_df.astype('float')\n",
    "X_df.head()"
   ]
  },
  {
   "cell_type": "code",
   "execution_count": 6,
   "id": "976c788d",
   "metadata": {
    "execution": {
     "iopub.execute_input": "2024-02-18T09:09:31.255304Z",
     "iopub.status.busy": "2024-02-18T09:09:31.254953Z",
     "iopub.status.idle": "2024-02-18T09:09:31.268053Z",
     "shell.execute_reply": "2024-02-18T09:09:31.267029Z"
    },
    "papermill": {
     "duration": 0.031488,
     "end_time": "2024-02-18T09:09:31.270115",
     "exception": false,
     "start_time": "2024-02-18T09:09:31.238627",
     "status": "completed"
    },
    "tags": []
   },
   "outputs": [
    {
     "name": "stdout",
     "output_type": "stream",
     "text": [
      "unique values: [0 1 2 3 4]\n",
      "counts: [72471  2223  5788   641  6431]\n"
     ]
    }
   ],
   "source": [
    "#we actually dont need to one hot encode the target since we are using cross entropy loss and it runs more efficiently when we pass in the target as indices\n",
    "#print out the unique values in the target\n",
    "unique, counts = np.unique(y_df, return_counts=True)\n",
    "print(f'unique values: {unique}')\n",
    "print(f'counts: {counts}')"
   ]
  },
  {
   "cell_type": "code",
   "execution_count": 7,
   "id": "4b20a894",
   "metadata": {
    "execution": {
     "iopub.execute_input": "2024-02-18T09:09:31.301254Z",
     "iopub.status.busy": "2024-02-18T09:09:31.300887Z",
     "iopub.status.idle": "2024-02-18T09:09:31.305245Z",
     "shell.execute_reply": "2024-02-18T09:09:31.304288Z"
    },
    "papermill": {
     "duration": 0.021953,
     "end_time": "2024-02-18T09:09:31.307099",
     "exception": false,
     "start_time": "2024-02-18T09:09:31.285146",
     "status": "completed"
    },
    "tags": []
   },
   "outputs": [],
   "source": [
    "#make a dictionary to map the target indices to class names\n",
    "class_names = {0: 'N', 1: 'S', 2: 'V', 3: 'F', 4: 'Q'}"
   ]
  },
  {
   "cell_type": "code",
   "execution_count": 8,
   "id": "acf5d3ee",
   "metadata": {
    "execution": {
     "iopub.execute_input": "2024-02-18T09:09:31.337411Z",
     "iopub.status.busy": "2024-02-18T09:09:31.337108Z",
     "iopub.status.idle": "2024-02-18T09:09:31.342817Z",
     "shell.execute_reply": "2024-02-18T09:09:31.341964Z"
    },
    "papermill": {
     "duration": 0.023302,
     "end_time": "2024-02-18T09:09:31.344916",
     "exception": false,
     "start_time": "2024-02-18T09:09:31.321614",
     "status": "completed"
    },
    "tags": []
   },
   "outputs": [
    {
     "data": {
      "text/plain": [
       "(87554, 187)"
      ]
     },
     "execution_count": 8,
     "metadata": {},
     "output_type": "execute_result"
    }
   ],
   "source": [
    "#the input dims are 187 and the output dims are 5\n",
    "#we want the input to be (batch_size, 1, 187) and the output to be (batch_size, 5) because the input has one channel and the output has 5 classes\n",
    "X_np = X_df.to_numpy()\n",
    "X_np.shape"
   ]
  },
  {
   "cell_type": "code",
   "execution_count": 9,
   "id": "2f87d2b6",
   "metadata": {
    "execution": {
     "iopub.execute_input": "2024-02-18T09:09:31.375346Z",
     "iopub.status.busy": "2024-02-18T09:09:31.375029Z",
     "iopub.status.idle": "2024-02-18T09:09:31.380789Z",
     "shell.execute_reply": "2024-02-18T09:09:31.380023Z"
    },
    "papermill": {
     "duration": 0.023117,
     "end_time": "2024-02-18T09:09:31.382642",
     "exception": false,
     "start_time": "2024-02-18T09:09:31.359525",
     "status": "completed"
    },
    "tags": []
   },
   "outputs": [
    {
     "data": {
      "text/plain": [
       "(87554, 1, 187)"
      ]
     },
     "execution_count": 9,
     "metadata": {},
     "output_type": "execute_result"
    }
   ],
   "source": [
    "#we want to add a channel dimension to the input\n",
    "X_np = X_np.reshape(-1, 1, 187)\n",
    "X_np.shape"
   ]
  },
  {
   "cell_type": "code",
   "execution_count": 10,
   "id": "7c60919f",
   "metadata": {
    "execution": {
     "iopub.execute_input": "2024-02-18T09:09:31.414283Z",
     "iopub.status.busy": "2024-02-18T09:09:31.413890Z",
     "iopub.status.idle": "2024-02-18T09:09:31.420005Z",
     "shell.execute_reply": "2024-02-18T09:09:31.419096Z"
    },
    "papermill": {
     "duration": 0.024462,
     "end_time": "2024-02-18T09:09:31.421996",
     "exception": false,
     "start_time": "2024-02-18T09:09:31.397534",
     "status": "completed"
    },
    "tags": []
   },
   "outputs": [
    {
     "data": {
      "text/plain": [
       "(87554,)"
      ]
     },
     "execution_count": 10,
     "metadata": {},
     "output_type": "execute_result"
    }
   ],
   "source": [
    "#do the same for the target\n",
    "y_np = y_df.to_numpy()\n",
    "y_np.shape"
   ]
  },
  {
   "cell_type": "code",
   "execution_count": 11,
   "id": "3be38782",
   "metadata": {
    "execution": {
     "iopub.execute_input": "2024-02-18T09:09:31.453669Z",
     "iopub.status.busy": "2024-02-18T09:09:31.453330Z",
     "iopub.status.idle": "2024-02-18T09:09:31.459226Z",
     "shell.execute_reply": "2024-02-18T09:09:31.458440Z"
    },
    "papermill": {
     "duration": 0.023751,
     "end_time": "2024-02-18T09:09:31.461058",
     "exception": false,
     "start_time": "2024-02-18T09:09:31.437307",
     "status": "completed"
    },
    "tags": []
   },
   "outputs": [
    {
     "data": {
      "text/plain": [
       "(87554, 1)"
      ]
     },
     "execution_count": 11,
     "metadata": {},
     "output_type": "execute_result"
    }
   ],
   "source": [
    "y_np = y_np.reshape(-1, 1)\n",
    "y_np.shape"
   ]
  },
  {
   "cell_type": "code",
   "execution_count": 12,
   "id": "c519ae1d",
   "metadata": {
    "execution": {
     "iopub.execute_input": "2024-02-18T09:09:31.493769Z",
     "iopub.status.busy": "2024-02-18T09:09:31.493407Z",
     "iopub.status.idle": "2024-02-18T09:09:31.613445Z",
     "shell.execute_reply": "2024-02-18T09:09:31.612354Z"
    },
    "papermill": {
     "duration": 0.140294,
     "end_time": "2024-02-18T09:09:31.616589",
     "exception": false,
     "start_time": "2024-02-18T09:09:31.476295",
     "status": "completed"
    },
    "tags": []
   },
   "outputs": [
    {
     "name": "stdout",
     "output_type": "stream",
     "text": [
      "mean before normalization: 0.17428295254906354\n",
      "std: 0.22632738719052128\n",
      "max: 1.0\n"
     ]
    }
   ],
   "source": [
    "#perfect, we now have the input and target in the correct shape\n",
    "X_mean = X_np.mean()\n",
    "X_std = X_np.std()\n",
    "X_max = X_np.max()\n",
    "X_min = X_np.min()\n",
    "print(f'mean before normalization: {X_mean}')\n",
    "print(f'std: {X_std}')\n",
    "print(f'max: {X_max}')"
   ]
  },
  {
   "cell_type": "code",
   "execution_count": 13,
   "id": "159896cd",
   "metadata": {
    "execution": {
     "iopub.execute_input": "2024-02-18T09:09:31.658144Z",
     "iopub.status.busy": "2024-02-18T09:09:31.657462Z",
     "iopub.status.idle": "2024-02-18T09:09:31.712170Z",
     "shell.execute_reply": "2024-02-18T09:09:31.711349Z"
    },
    "papermill": {
     "duration": 0.077065,
     "end_time": "2024-02-18T09:09:31.714537",
     "exception": false,
     "start_time": "2024-02-18T09:09:31.637472",
     "status": "completed"
    },
    "tags": []
   },
   "outputs": [],
   "source": [
    "#we need to subtract the mean from the data\n",
    "X_norm = X_np - X_mean\n",
    "#then multiply by 1/std to make the std = 1\n",
    "X_norm *= 1/X_std"
   ]
  },
  {
   "cell_type": "code",
   "execution_count": 14,
   "id": "19cd5e48",
   "metadata": {
    "execution": {
     "iopub.execute_input": "2024-02-18T09:09:31.747886Z",
     "iopub.status.busy": "2024-02-18T09:09:31.747203Z",
     "iopub.status.idle": "2024-02-18T09:09:31.836535Z",
     "shell.execute_reply": "2024-02-18T09:09:31.835242Z"
    },
    "papermill": {
     "duration": 0.108355,
     "end_time": "2024-02-18T09:09:31.838814",
     "exception": false,
     "start_time": "2024-02-18T09:09:31.730459",
     "status": "completed"
    },
    "tags": []
   },
   "outputs": [
    {
     "name": "stdout",
     "output_type": "stream",
     "text": [
      "(87554, 1, 187)\n",
      "new mean is 1.5088439287128576e-15\n",
      "new std is 1.0000000000000004\n"
     ]
    }
   ],
   "source": [
    "print(X_norm.shape)\n",
    "print(f'new mean is {X_norm.mean()}')\n",
    "print(f'new std is {X_norm.std()}')"
   ]
  },
  {
   "cell_type": "code",
   "execution_count": 15,
   "id": "475005ce",
   "metadata": {
    "execution": {
     "iopub.execute_input": "2024-02-18T09:09:31.872710Z",
     "iopub.status.busy": "2024-02-18T09:09:31.871927Z",
     "iopub.status.idle": "2024-02-18T09:09:31.878061Z",
     "shell.execute_reply": "2024-02-18T09:09:31.877199Z"
    },
    "papermill": {
     "duration": 0.024489,
     "end_time": "2024-02-18T09:09:31.880100",
     "exception": false,
     "start_time": "2024-02-18T09:09:31.855611",
     "status": "completed"
    },
    "tags": []
   },
   "outputs": [
    {
     "data": {
      "text/plain": [
       "(87554, 1, 187)"
      ]
     },
     "execution_count": 15,
     "metadata": {},
     "output_type": "execute_result"
    }
   ],
   "source": [
    "X_norm.shape #representing the input data as a sequence of 187 points"
   ]
  },
  {
   "cell_type": "code",
   "execution_count": 16,
   "id": "dc45ef7d",
   "metadata": {
    "execution": {
     "iopub.execute_input": "2024-02-18T09:09:31.913258Z",
     "iopub.status.busy": "2024-02-18T09:09:31.912456Z",
     "iopub.status.idle": "2024-02-18T09:09:31.918159Z",
     "shell.execute_reply": "2024-02-18T09:09:31.917339Z"
    },
    "papermill": {
     "duration": 0.024351,
     "end_time": "2024-02-18T09:09:31.919961",
     "exception": false,
     "start_time": "2024-02-18T09:09:31.895610",
     "status": "completed"
    },
    "tags": []
   },
   "outputs": [
    {
     "data": {
      "text/plain": [
       "(87554, 1)"
      ]
     },
     "execution_count": 16,
     "metadata": {},
     "output_type": "execute_result"
    }
   ],
   "source": [
    "y_np.shape #representing the target as indices 0 to 4"
   ]
  },
  {
   "cell_type": "markdown",
   "id": "f30f65e6",
   "metadata": {
    "papermill": {
     "duration": 0.015582,
     "end_time": "2024-02-18T09:09:31.951725",
     "exception": false,
     "start_time": "2024-02-18T09:09:31.936143",
     "status": "completed"
    },
    "tags": []
   },
   "source": [
    "Saving the normalized variables"
   ]
  },
  {
   "cell_type": "code",
   "execution_count": 17,
   "id": "a87afb83",
   "metadata": {
    "execution": {
     "iopub.execute_input": "2024-02-18T09:09:31.985374Z",
     "iopub.status.busy": "2024-02-18T09:09:31.984509Z",
     "iopub.status.idle": "2024-02-18T09:09:47.470922Z",
     "shell.execute_reply": "2024-02-18T09:09:47.469951Z"
    },
    "papermill": {
     "duration": 15.505887,
     "end_time": "2024-02-18T09:09:47.473350",
     "exception": false,
     "start_time": "2024-02-18T09:09:31.967463",
     "status": "completed"
    },
    "tags": []
   },
   "outputs": [],
   "source": [
    "#saving the normalized data to a csv file\n",
    "np.savetxt('X_norm.csv', X_norm.squeeze(), delimiter=',')\n",
    "np.savetxt('y_np.csv', y_np, delimiter=',')\n",
    "# np.loadtxt('X_norm.csv', delimiter=',').shape"
   ]
  },
  {
   "cell_type": "markdown",
   "id": "da47ad37",
   "metadata": {
    "papermill": {
     "duration": 0.015613,
     "end_time": "2024-02-18T09:09:47.504934",
     "exception": false,
     "start_time": "2024-02-18T09:09:47.489321",
     "status": "completed"
    },
    "tags": []
   },
   "source": [
    "Loading the normalized variables from disk"
   ]
  },
  {
   "cell_type": "code",
   "execution_count": 18,
   "id": "d34698c5",
   "metadata": {
    "execution": {
     "iopub.execute_input": "2024-02-18T09:09:47.538412Z",
     "iopub.status.busy": "2024-02-18T09:09:47.537700Z",
     "iopub.status.idle": "2024-02-18T09:09:54.993248Z",
     "shell.execute_reply": "2024-02-18T09:09:54.992329Z"
    },
    "papermill": {
     "duration": 7.474951,
     "end_time": "2024-02-18T09:09:54.995566",
     "exception": false,
     "start_time": "2024-02-18T09:09:47.520615",
     "status": "completed"
    },
    "tags": []
   },
   "outputs": [],
   "source": [
    "X_norm = np.loadtxt('X_norm.csv', delimiter=',').reshape(-1, 1, 187)\n",
    "y_np = np.loadtxt('y_np.csv', delimiter=',').reshape(-1, 1)"
   ]
  },
  {
   "cell_type": "code",
   "execution_count": 19,
   "id": "e33e8698",
   "metadata": {
    "execution": {
     "iopub.execute_input": "2024-02-18T09:09:55.028731Z",
     "iopub.status.busy": "2024-02-18T09:09:55.028147Z",
     "iopub.status.idle": "2024-02-18T09:09:55.032783Z",
     "shell.execute_reply": "2024-02-18T09:09:55.031945Z"
    },
    "papermill": {
     "duration": 0.023853,
     "end_time": "2024-02-18T09:09:55.035280",
     "exception": false,
     "start_time": "2024-02-18T09:09:55.011427",
     "status": "completed"
    },
    "tags": []
   },
   "outputs": [
    {
     "name": "stdout",
     "output_type": "stream",
     "text": [
      "(87554, 1, 187)\n",
      "(87554, 1)\n"
     ]
    }
   ],
   "source": [
    "print(X_norm.shape)\n",
    "print(y_np.shape)"
   ]
  },
  {
   "cell_type": "code",
   "execution_count": 20,
   "id": "3f71aca6",
   "metadata": {
    "execution": {
     "iopub.execute_input": "2024-02-18T09:09:55.116332Z",
     "iopub.status.busy": "2024-02-18T09:09:55.115978Z",
     "iopub.status.idle": "2024-02-18T09:09:55.122425Z",
     "shell.execute_reply": "2024-02-18T09:09:55.121539Z"
    },
    "papermill": {
     "duration": 0.025588,
     "end_time": "2024-02-18T09:09:55.124457",
     "exception": false,
     "start_time": "2024-02-18T09:09:55.098869",
     "status": "completed"
    },
    "tags": []
   },
   "outputs": [
    {
     "data": {
      "text/plain": [
       "dtype('int64')"
      ]
     },
     "execution_count": 20,
     "metadata": {},
     "output_type": "execute_result"
    }
   ],
   "source": [
    "#change y_np data type to int\n",
    "y_np = y_np.astype('int')\n",
    "y_np.dtype"
   ]
  },
  {
   "cell_type": "markdown",
   "id": "f95ba2cc",
   "metadata": {
    "papermill": {
     "duration": 0.015745,
     "end_time": "2024-02-18T09:09:55.156245",
     "exception": false,
     "start_time": "2024-02-18T09:09:55.140500",
     "status": "completed"
    },
    "tags": []
   },
   "source": [
    "split the data into training and validation sets using scikit-learn"
   ]
  },
  {
   "cell_type": "code",
   "execution_count": 21,
   "id": "0078db0e",
   "metadata": {
    "execution": {
     "iopub.execute_input": "2024-02-18T09:09:55.190094Z",
     "iopub.status.busy": "2024-02-18T09:09:55.189262Z",
     "iopub.status.idle": "2024-02-18T09:09:55.252015Z",
     "shell.execute_reply": "2024-02-18T09:09:55.251027Z"
    },
    "papermill": {
     "duration": 0.082365,
     "end_time": "2024-02-18T09:09:55.254517",
     "exception": false,
     "start_time": "2024-02-18T09:09:55.172152",
     "status": "completed"
    },
    "tags": []
   },
   "outputs": [],
   "source": [
    "#shuffle the data and split into train and validation sets\n",
    "X_train, X_val, y_train, y_val = train_test_split(X_norm, y_np, test_size=0.2, shuffle=True)"
   ]
  },
  {
   "cell_type": "markdown",
   "id": "3c239f26",
   "metadata": {
    "papermill": {
     "duration": 0.01574,
     "end_time": "2024-02-18T09:09:55.287044",
     "exception": false,
     "start_time": "2024-02-18T09:09:55.271304",
     "status": "completed"
    },
    "tags": []
   },
   "source": [
    "Now check for class imbalance"
   ]
  },
  {
   "cell_type": "code",
   "execution_count": 22,
   "id": "94ffdfdd",
   "metadata": {
    "execution": {
     "iopub.execute_input": "2024-02-18T09:09:55.320383Z",
     "iopub.status.busy": "2024-02-18T09:09:55.319704Z",
     "iopub.status.idle": "2024-02-18T09:09:55.329035Z",
     "shell.execute_reply": "2024-02-18T09:09:55.328058Z"
    },
    "papermill": {
     "duration": 0.028217,
     "end_time": "2024-02-18T09:09:55.331080",
     "exception": false,
     "start_time": "2024-02-18T09:09:55.302863",
     "status": "completed"
    },
    "tags": []
   },
   "outputs": [
    {
     "name": "stdout",
     "output_type": "stream",
     "text": [
      "Frequency of each class in the train set\n",
      "N: 57955\n",
      "S: 1783\n",
      "V: 4606\n",
      "F: 535\n",
      "Q: 5164\n",
      "Frequency of each class in the validation set\n",
      "N: 14516\n",
      "S: 440\n",
      "V: 1182\n",
      "F: 106\n",
      "Q: 1267\n"
     ]
    }
   ],
   "source": [
    "#print the frequency of each class in the train and validation sets\n",
    "print(f'Frequency of each class in the train set')\n",
    "unique, counts = np.unique(y_train, return_counts=True)\n",
    "for i in range(len(unique)):\n",
    "    print(f'{class_names[unique[i]]}: {counts[i]}')\n",
    "\n",
    "print(f'Frequency of each class in the validation set')\n",
    "unique, counts = np.unique(y_val, return_counts=True)\n",
    "for i in range(len(unique)):\n",
    "    print(f'{class_names[unique[i]]}: {counts[i]}')"
   ]
  },
  {
   "cell_type": "markdown",
   "id": "e013e266",
   "metadata": {
    "papermill": {
     "duration": 0.015632,
     "end_time": "2024-02-18T09:09:55.362615",
     "exception": false,
     "start_time": "2024-02-18T09:09:55.346983",
     "status": "completed"
    },
    "tags": []
   },
   "source": [
    "define a hyper-parameters dictionary"
   ]
  },
  {
   "cell_type": "code",
   "execution_count": 23,
   "id": "c1232310",
   "metadata": {
    "execution": {
     "iopub.execute_input": "2024-02-18T09:09:55.396530Z",
     "iopub.status.busy": "2024-02-18T09:09:55.395784Z",
     "iopub.status.idle": "2024-02-18T09:09:55.400393Z",
     "shell.execute_reply": "2024-02-18T09:09:55.399484Z"
    },
    "papermill": {
     "duration": 0.02376,
     "end_time": "2024-02-18T09:09:55.402295",
     "exception": false,
     "start_time": "2024-02-18T09:09:55.378535",
     "status": "completed"
    },
    "tags": []
   },
   "outputs": [],
   "source": [
    "hyper_params = {'bs': 1024,\n",
    "                                'lr': 1e-3,\n",
    "                                'lr_decay': 0.3,\n",
    "                                'epochs':50,\n",
    "                                }"
   ]
  },
  {
   "cell_type": "code",
   "execution_count": 24,
   "id": "1cb3edc7",
   "metadata": {
    "execution": {
     "iopub.execute_input": "2024-02-18T09:09:55.436760Z",
     "iopub.status.busy": "2024-02-18T09:09:55.435945Z",
     "iopub.status.idle": "2024-02-18T09:09:55.491282Z",
     "shell.execute_reply": "2024-02-18T09:09:55.490296Z"
    },
    "papermill": {
     "duration": 0.075236,
     "end_time": "2024-02-18T09:09:55.493716",
     "exception": false,
     "start_time": "2024-02-18T09:09:55.418480",
     "status": "completed"
    },
    "tags": []
   },
   "outputs": [],
   "source": [
    "#pytorch dataset and dataloader\n",
    "train_ds = torch.utils.data.TensorDataset(torch.from_numpy(X_train).float(), torch.from_numpy(y_train).long())\n",
    "val_ds = torch.utils.data.TensorDataset(torch.from_numpy(X_val).float(), torch.from_numpy(y_val).long())"
   ]
  },
  {
   "cell_type": "code",
   "execution_count": 25,
   "id": "2ee8a34e",
   "metadata": {
    "execution": {
     "iopub.execute_input": "2024-02-18T09:09:55.529197Z",
     "iopub.status.busy": "2024-02-18T09:09:55.528416Z",
     "iopub.status.idle": "2024-02-18T09:09:55.534401Z",
     "shell.execute_reply": "2024-02-18T09:09:55.533567Z"
    },
    "papermill": {
     "duration": 0.02465,
     "end_time": "2024-02-18T09:09:55.536223",
     "exception": false,
     "start_time": "2024-02-18T09:09:55.511573",
     "status": "completed"
    },
    "tags": []
   },
   "outputs": [
    {
     "data": {
      "text/plain": [
       "(70043, 17511)"
      ]
     },
     "execution_count": 25,
     "metadata": {},
     "output_type": "execute_result"
    }
   ],
   "source": [
    "len(train_ds), len(val_ds)"
   ]
  },
  {
   "cell_type": "markdown",
   "id": "19ded8a6",
   "metadata": {
    "papermill": {
     "duration": 0.015858,
     "end_time": "2024-02-18T09:09:55.568077",
     "exception": false,
     "start_time": "2024-02-18T09:09:55.552219",
     "status": "completed"
    },
    "tags": []
   },
   "source": [
    "compute the weight of each class by inverting their distribution and normalizing it"
   ]
  },
  {
   "cell_type": "code",
   "execution_count": 26,
   "id": "6218c662",
   "metadata": {
    "execution": {
     "iopub.execute_input": "2024-02-18T09:09:55.602013Z",
     "iopub.status.busy": "2024-02-18T09:09:55.601642Z",
     "iopub.status.idle": "2024-02-18T09:09:55.611044Z",
     "shell.execute_reply": "2024-02-18T09:09:55.610152Z"
    },
    "papermill": {
     "duration": 0.028772,
     "end_time": "2024-02-18T09:09:55.613039",
     "exception": false,
     "start_time": "2024-02-18T09:09:55.584267",
     "status": "completed"
    },
    "tags": []
   },
   "outputs": [
    {
     "data": {
      "text/plain": [
       "(array([0.00603731, 0.19623795, 0.07596445, 0.65400423, 0.06775605]),\n",
       " {0: 'N', 1: 'S', 2: 'V', 3: 'F', 4: 'Q'})"
      ]
     },
     "execution_count": 26,
     "metadata": {},
     "output_type": "execute_result"
    }
   ],
   "source": [
    "#the class distribution is not uniform so we have to define weights for each class\n",
    "class_dist = np.unique(y_train, return_counts=True)[1] #index 1 returns the counts\n",
    "class_dist = class_dist/np.sum(class_dist) #normalize to get 0-1 values\n",
    "# normalize the weights\n",
    "weights = 1/class_dist #invert to compensate for class distribution imbalance\n",
    "weights = weights/weights.sum() #normalize to get values 0-1\n",
    "weights, class_names"
   ]
  },
  {
   "cell_type": "markdown",
   "id": "62b6488d",
   "metadata": {
    "papermill": {
     "duration": 0.016086,
     "end_time": "2024-02-18T09:09:55.645732",
     "exception": false,
     "start_time": "2024-02-18T09:09:55.629646",
     "status": "completed"
    },
    "tags": []
   },
   "source": [
    "assign each example in the training set the weight we computed in the above cell"
   ]
  },
  {
   "cell_type": "code",
   "execution_count": 27,
   "id": "e0dc8b9d",
   "metadata": {
    "execution": {
     "iopub.execute_input": "2024-02-18T09:09:55.681063Z",
     "iopub.status.busy": "2024-02-18T09:09:55.680701Z",
     "iopub.status.idle": "2024-02-18T09:09:55.741970Z",
     "shell.execute_reply": "2024-02-18T09:09:55.741075Z"
    },
    "papermill": {
     "duration": 0.080637,
     "end_time": "2024-02-18T09:09:55.744110",
     "exception": false,
     "start_time": "2024-02-18T09:09:55.663473",
     "status": "completed"
    },
    "tags": []
   },
   "outputs": [
    {
     "data": {
      "text/plain": [
       "array([0.00603731, 0.00603731, 0.00603731, 0.06775605, 0.07596445,\n",
       "       0.00603731, 0.06775605, 0.00603731, 0.00603731, 0.00603731])"
      ]
     },
     "execution_count": 27,
     "metadata": {},
     "output_type": "execute_result"
    }
   ],
   "source": [
    "#get weights for each example in the dataset\n",
    "data_weights = np.zeros(y_train.shape[0]) #shape (m, )\n",
    "for i in range(y_train.shape[0]): #for each example we assign the corresponding weight\n",
    "    data_weights[i] = weights[y_train[i, 0]]\n",
    "data_weights[:10]"
   ]
  },
  {
   "cell_type": "markdown",
   "id": "ccbc71a0",
   "metadata": {
    "papermill": {
     "duration": 0.016262,
     "end_time": "2024-02-18T09:09:55.777119",
     "exception": false,
     "start_time": "2024-02-18T09:09:55.760857",
     "status": "completed"
    },
    "tags": []
   },
   "source": [
    "pass the weights to the WeightedRandomSampler to sample according to the normalized weights"
   ]
  },
  {
   "cell_type": "code",
   "execution_count": 28,
   "id": "de72c81f",
   "metadata": {
    "execution": {
     "iopub.execute_input": "2024-02-18T09:09:55.811722Z",
     "iopub.status.busy": "2024-02-18T09:09:55.811365Z",
     "iopub.status.idle": "2024-02-18T09:09:55.816777Z",
     "shell.execute_reply": "2024-02-18T09:09:55.815870Z"
    },
    "papermill": {
     "duration": 0.025226,
     "end_time": "2024-02-18T09:09:55.818825",
     "exception": false,
     "start_time": "2024-02-18T09:09:55.793599",
     "status": "completed"
    },
    "tags": []
   },
   "outputs": [],
   "source": [
    "#data loader - we use the random weights sampler to balance the classes\n",
    "train_dl = DataLoader(train_ds, batch_size=hyper_params['bs'], sampler=WeightedRandomSampler(weights=data_weights, num_samples= len(y_train), replacement=True))\n",
    "val_dl = DataLoader(val_ds, batch_size=hyper_params['bs'])"
   ]
  },
  {
   "cell_type": "markdown",
   "id": "f7fc9a53",
   "metadata": {
    "papermill": {
     "duration": 0.016863,
     "end_time": "2024-02-18T09:09:55.852967",
     "exception": false,
     "start_time": "2024-02-18T09:09:55.836104",
     "status": "completed"
    },
    "tags": []
   },
   "source": [
    "check the training dataloader for class distributions"
   ]
  },
  {
   "cell_type": "code",
   "execution_count": 29,
   "id": "22f4538c",
   "metadata": {
    "execution": {
     "iopub.execute_input": "2024-02-18T09:09:55.887780Z",
     "iopub.status.busy": "2024-02-18T09:09:55.887048Z",
     "iopub.status.idle": "2024-02-18T09:09:55.956119Z",
     "shell.execute_reply": "2024-02-18T09:09:55.955080Z"
    },
    "papermill": {
     "duration": 0.088816,
     "end_time": "2024-02-18T09:09:55.958266",
     "exception": false,
     "start_time": "2024-02-18T09:09:55.869450",
     "status": "completed"
    },
    "tags": []
   },
   "outputs": [
    {
     "name": "stdout",
     "output_type": "stream",
     "text": [
      "torch.Size([1024, 1])\n",
      "N: 214\n",
      "S: 200\n",
      "V: 208\n",
      "F: 197\n",
      "Q: 205\n"
     ]
    }
   ],
   "source": [
    "#get the class distribution in dataloader\n",
    "for batch in train_dl:\n",
    "    print(batch[1].shape)\n",
    "    unique, counts = np.unique(batch[1], return_counts=True)\n",
    "    for i in range(len(unique)):\n",
    "        print(f'{class_names[unique[i]]}: {counts[i]}')\n",
    "    break"
   ]
  },
  {
   "cell_type": "markdown",
   "id": "7aac97f6",
   "metadata": {
    "papermill": {
     "duration": 0.016265,
     "end_time": "2024-02-18T09:09:55.991520",
     "exception": false,
     "start_time": "2024-02-18T09:09:55.975255",
     "status": "completed"
    },
    "tags": []
   },
   "source": [
    "Network Architecture"
   ]
  },
  {
   "cell_type": "code",
   "execution_count": 30,
   "id": "915404b0",
   "metadata": {
    "execution": {
     "iopub.execute_input": "2024-02-18T09:09:56.026717Z",
     "iopub.status.busy": "2024-02-18T09:09:56.025886Z",
     "iopub.status.idle": "2024-02-18T09:09:56.031744Z",
     "shell.execute_reply": "2024-02-18T09:09:56.030841Z"
    },
    "papermill": {
     "duration": 0.025564,
     "end_time": "2024-02-18T09:09:56.033750",
     "exception": false,
     "start_time": "2024-02-18T09:09:56.008186",
     "status": "completed"
    },
    "tags": []
   },
   "outputs": [],
   "source": [
    "#make some convolutional blocks to use in the model\n",
    "def nin_block(in_channels, out_channels, kernel_size, padding, strides):\n",
    "    return nn.Sequential(\n",
    "        nn.Conv1d(in_channels, out_channels, kernel_size, strides, padding),\n",
    "        nn.BatchNorm1d(out_channels),\n",
    "        nn.GELU(),\n",
    "        nn.Conv1d(out_channels, out_channels, kernel_size=1), nn.GELU(),\n",
    "        nn.Conv1d(out_channels, out_channels, kernel_size=1), nn.GELU()\n",
    "    )"
   ]
  },
  {
   "cell_type": "code",
   "execution_count": 31,
   "id": "74dc713d",
   "metadata": {
    "execution": {
     "iopub.execute_input": "2024-02-18T09:09:56.068928Z",
     "iopub.status.busy": "2024-02-18T09:09:56.068254Z",
     "iopub.status.idle": "2024-02-18T09:09:56.075240Z",
     "shell.execute_reply": "2024-02-18T09:09:56.074392Z"
    },
    "papermill": {
     "duration": 0.026381,
     "end_time": "2024-02-18T09:09:56.077152",
     "exception": false,
     "start_time": "2024-02-18T09:09:56.050771",
     "status": "completed"
    },
    "tags": []
   },
   "outputs": [],
   "source": [
    "def get_model():\n",
    "    return nn.Sequential( #input shape: (batch_size, 1, 187)\n",
    "        nin_block(1, 48, kernel_size=11, strides=4, padding=0), #output shape: (batch_size, 48, 44)\n",
    "        nn.MaxPool1d(3, stride=2), #output shape: (batch_size, 48, 21)\n",
    "        nin_block(48, 128, kernel_size=5, strides=1, padding=2), #output shape: (batch_size, 128, 21)\n",
    "        nn.MaxPool1d(3, stride=2), #output shape: (batch_size, 128, 10)\n",
    "        nin_block(128, 256, kernel_size=3, strides=1, padding=1), #output shape: (batch_size, 256, 10)\n",
    "        nn.MaxPool1d(3, stride=2), #output shape: (batch_size, 256, 4)\n",
    "        nn.Dropout(0.4), \n",
    "        #last layers for classification of 5 classes\n",
    "        nin_block(256, 5, kernel_size=3, strides=1, padding=1), #output shape: (batch_size, 5, 4)\n",
    "        nn.AdaptiveAvgPool1d(1), #output shape: (batch_size, 5, 1)\n",
    "        nn.Flatten() #output shape: (batch_size, 5)\n",
    "    )"
   ]
  },
  {
   "cell_type": "code",
   "execution_count": 32,
   "id": "b1142ac8",
   "metadata": {
    "execution": {
     "iopub.execute_input": "2024-02-18T09:09:56.111753Z",
     "iopub.status.busy": "2024-02-18T09:09:56.111397Z",
     "iopub.status.idle": "2024-02-18T09:09:56.135599Z",
     "shell.execute_reply": "2024-02-18T09:09:56.134838Z"
    },
    "papermill": {
     "duration": 0.043982,
     "end_time": "2024-02-18T09:09:56.137711",
     "exception": false,
     "start_time": "2024-02-18T09:09:56.093729",
     "status": "completed"
    },
    "tags": []
   },
   "outputs": [],
   "source": [
    "model = get_model()"
   ]
  },
  {
   "cell_type": "code",
   "execution_count": 33,
   "id": "74406c91",
   "metadata": {
    "execution": {
     "iopub.execute_input": "2024-02-18T09:09:56.172197Z",
     "iopub.status.busy": "2024-02-18T09:09:56.171791Z",
     "iopub.status.idle": "2024-02-18T09:09:56.177585Z",
     "shell.execute_reply": "2024-02-18T09:09:56.176731Z"
    },
    "papermill": {
     "duration": 0.025306,
     "end_time": "2024-02-18T09:09:56.179707",
     "exception": false,
     "start_time": "2024-02-18T09:09:56.154401",
     "status": "completed"
    },
    "tags": []
   },
   "outputs": [
    {
     "name": "stdout",
     "output_type": "stream",
     "text": [
      "Model size: 1.1599540710449219 MB\n",
      "Number of trainable parameters: 304075\n"
     ]
    }
   ],
   "source": [
    "#model size in MB\n",
    "print(f'Model size: {sum(p.numel() for p in model.parameters() if p.requires_grad)*4/(1024**2)} MB')\n",
    "#number of trainable parameters\n",
    "print(f'Number of trainable parameters: {sum(p.numel() for p in model.parameters() if p.requires_grad)}')"
   ]
  },
  {
   "cell_type": "code",
   "execution_count": 34,
   "id": "dfd8997a",
   "metadata": {
    "execution": {
     "iopub.execute_input": "2024-02-18T09:09:56.215107Z",
     "iopub.status.busy": "2024-02-18T09:09:56.214643Z",
     "iopub.status.idle": "2024-02-18T09:09:56.275597Z",
     "shell.execute_reply": "2024-02-18T09:09:56.274758Z"
    },
    "papermill": {
     "duration": 0.080658,
     "end_time": "2024-02-18T09:09:56.277602",
     "exception": false,
     "start_time": "2024-02-18T09:09:56.196944",
     "status": "completed"
    },
    "tags": []
   },
   "outputs": [
    {
     "data": {
      "text/plain": [
       "device(type='cuda')"
      ]
     },
     "execution_count": 34,
     "metadata": {},
     "output_type": "execute_result"
    }
   ],
   "source": [
    "#find device to run the model on\n",
    "device = torch.device('cuda' if torch.cuda.is_available() else 'cpu')\n",
    "device"
   ]
  },
  {
   "cell_type": "code",
   "execution_count": 35,
   "id": "9226c85d",
   "metadata": {
    "execution": {
     "iopub.execute_input": "2024-02-18T09:09:56.313140Z",
     "iopub.status.busy": "2024-02-18T09:09:56.312284Z",
     "iopub.status.idle": "2024-02-18T09:09:56.474777Z",
     "shell.execute_reply": "2024-02-18T09:09:56.473950Z"
    },
    "papermill": {
     "duration": 0.182503,
     "end_time": "2024-02-18T09:09:56.477058",
     "exception": false,
     "start_time": "2024-02-18T09:09:56.294555",
     "status": "completed"
    },
    "tags": []
   },
   "outputs": [],
   "source": [
    "#move the model to the device\n",
    "model = model.to(device)"
   ]
  },
  {
   "cell_type": "code",
   "execution_count": 36,
   "id": "2eaf7dcb",
   "metadata": {
    "execution": {
     "iopub.execute_input": "2024-02-18T09:09:56.512551Z",
     "iopub.status.busy": "2024-02-18T09:09:56.512198Z",
     "iopub.status.idle": "2024-02-18T09:09:56.517984Z",
     "shell.execute_reply": "2024-02-18T09:09:56.517181Z"
    },
    "papermill": {
     "duration": 0.025958,
     "end_time": "2024-02-18T09:09:56.519943",
     "exception": false,
     "start_time": "2024-02-18T09:09:56.493985",
     "status": "completed"
    },
    "tags": []
   },
   "outputs": [
    {
     "data": {
      "text/plain": [
       "{0: 'N', 1: 'S', 2: 'V', 3: 'F', 4: 'Q'}"
      ]
     },
     "execution_count": 36,
     "metadata": {},
     "output_type": "execute_result"
    }
   ],
   "source": [
    "class_names"
   ]
  },
  {
   "cell_type": "code",
   "execution_count": 37,
   "id": "214be0c0",
   "metadata": {
    "execution": {
     "iopub.execute_input": "2024-02-18T09:09:56.555631Z",
     "iopub.status.busy": "2024-02-18T09:09:56.555272Z",
     "iopub.status.idle": "2024-02-18T09:09:56.560311Z",
     "shell.execute_reply": "2024-02-18T09:09:56.559391Z"
    },
    "papermill": {
     "duration": 0.025245,
     "end_time": "2024-02-18T09:09:56.562307",
     "exception": false,
     "start_time": "2024-02-18T09:09:56.537062",
     "status": "completed"
    },
    "tags": []
   },
   "outputs": [],
   "source": [
    "#loss function\n",
    "criterion = nn.CrossEntropyLoss(weight=torch.tensor([1, 1.1, 2.5, 3, 1], dtype=torch.float, device=device)) #CE loss automatically uses indices as targets"
   ]
  },
  {
   "cell_type": "code",
   "execution_count": 38,
   "id": "85ba9b05",
   "metadata": {
    "execution": {
     "iopub.execute_input": "2024-02-18T09:09:56.599003Z",
     "iopub.status.busy": "2024-02-18T09:09:56.598133Z",
     "iopub.status.idle": "2024-02-18T09:09:59.120674Z",
     "shell.execute_reply": "2024-02-18T09:09:59.119903Z"
    },
    "papermill": {
     "duration": 2.543738,
     "end_time": "2024-02-18T09:09:59.122950",
     "exception": false,
     "start_time": "2024-02-18T09:09:56.579212",
     "status": "completed"
    },
    "tags": []
   },
   "outputs": [],
   "source": [
    "#optimizer\n",
    "optimizer = torch.optim.Adam(model.parameters(), lr=hyper_params['lr'])"
   ]
  },
  {
   "cell_type": "code",
   "execution_count": 39,
   "id": "9e55b22e",
   "metadata": {
    "execution": {
     "iopub.execute_input": "2024-02-18T09:09:59.158989Z",
     "iopub.status.busy": "2024-02-18T09:09:59.158424Z",
     "iopub.status.idle": "2024-02-18T09:09:59.164024Z",
     "shell.execute_reply": "2024-02-18T09:09:59.163085Z"
    },
    "papermill": {
     "duration": 0.025839,
     "end_time": "2024-02-18T09:09:59.166010",
     "exception": false,
     "start_time": "2024-02-18T09:09:59.140171",
     "status": "completed"
    },
    "tags": []
   },
   "outputs": [
    {
     "name": "stdout",
     "output_type": "stream",
     "text": [
      "Adjusting learning rate of group 0 to 1.0000e-03.\n"
     ]
    }
   ],
   "source": [
    "#lr_scheduler\n",
    "lr_scheduler = StepLR(optimizer, step_size=10, gamma=hyper_params['lr_decay'], verbose=True)"
   ]
  },
  {
   "cell_type": "code",
   "execution_count": 40,
   "id": "00055201",
   "metadata": {
    "execution": {
     "iopub.execute_input": "2024-02-18T09:09:59.201657Z",
     "iopub.status.busy": "2024-02-18T09:09:59.201302Z",
     "iopub.status.idle": "2024-02-18T09:09:59.217812Z",
     "shell.execute_reply": "2024-02-18T09:09:59.216943Z"
    },
    "papermill": {
     "duration": 0.036855,
     "end_time": "2024-02-18T09:09:59.219979",
     "exception": false,
     "start_time": "2024-02-18T09:09:59.183124",
     "status": "completed"
    },
    "tags": []
   },
   "outputs": [],
   "source": [
    "import matplotlib.pyplot as plt\n",
    "\n",
    "def train(model, criterion, optimizer, train_dl, val_dl, epochs, lr_scheduler=None):\n",
    "    train_losses = []\n",
    "    val_losses = []\n",
    "    train_accuracies = []  # To record training accuracy\n",
    "    val_accuracies = []    # To record validation accuracy\n",
    "    best_model_params = deepcopy(model.state_dict())\n",
    "    best_accuracy = 0.0\n",
    "    for epoch in range(epochs):\n",
    "        print(f'Epoch {epoch+1}/{epochs}')\n",
    "        print('-'*10)\n",
    "        train_loss = 0\n",
    "        val_loss = 0\n",
    "        model.train()  # set the model to training mode\n",
    "        corrects_train = 0  # To calculate training accuracy\n",
    "        total_train = 0\n",
    "        for x, y in train_dl:\n",
    "            x = x.to(device)\n",
    "            y = y.to(device)\n",
    "            optimizer.zero_grad()\n",
    "            output = model(x)\n",
    "            loss = criterion(output, y.squeeze())\n",
    "            loss.backward()\n",
    "            optimizer.step()\n",
    "            train_loss += loss.item() * x.size(0)\n",
    "            # Calculate training accuracy\n",
    "            _, preds_train = torch.max(output, 1)\n",
    "            corrects_train += torch.sum(preds_train == y.squeeze()).item()\n",
    "            total_train += y.size(0)\n",
    "        train_accuracy = corrects_train / total_train\n",
    "        train_accuracies.append(train_accuracy)\n",
    "        train_loss = train_loss / len(train_dl.dataset)\n",
    "        train_losses.append(train_loss)\n",
    "        \n",
    "        if lr_scheduler is not None:\n",
    "            lr_scheduler.step()  # update the learning rate every n epochs\n",
    "            \n",
    "        model.eval()  # set the model to evaluation mode\n",
    "        corrects_val = 0  # To calculate validation accuracy\n",
    "        total_val = 0\n",
    "        for x, y in val_dl:\n",
    "            x = x.to(device)\n",
    "            y = y.to(device)\n",
    "            output = model(x)\n",
    "            loss = criterion(output, y.squeeze())\n",
    "            val_loss += loss.item() * x.size(0)\n",
    "            # Calculate validation accuracy\n",
    "            _, preds_val = torch.max(output, 1)\n",
    "            corrects_val += torch.sum(preds_val == y.squeeze()).item()\n",
    "            total_val += y.size(0)\n",
    "        val_accuracy = corrects_val / total_val\n",
    "        val_accuracies.append(val_accuracy)\n",
    "        val_loss = val_loss / len(val_dl.dataset)\n",
    "        val_losses.append(val_loss)\n",
    "        \n",
    "        print(f'Train Loss: {train_loss:.4f} \\t Val Loss: {val_loss:.4f} \\t Val Accuracy: {val_accuracy:.4f}')\n",
    "        \n",
    "        # if the model performs better on the validation set, save the model parameters\n",
    "        if val_accuracy > best_accuracy:\n",
    "            best_accuracy = val_accuracy\n",
    "            best_model_params = deepcopy(model.state_dict())\n",
    "    \n",
    "    print('Finished Training and the best accuracy is: {:.4f}'.format(best_accuracy))\n",
    "    # Plot the training and validation accuracy curves\n",
    "    plt.figure(figsize=(10, 5))\n",
    "    plt.plot(range(1, len(train_accuracies) + 1), train_accuracies, label='Training Accuracy')\n",
    "    plt.plot(range(1, len(val_accuracies) + 1), val_accuracies, label='Validation Accuracy')\n",
    "    plt.xlabel('Epoch')\n",
    "    plt.ylabel('Accuracy')\n",
    "    plt.title('Training and Validation Accuracy Curves')\n",
    "    plt.legend()\n",
    "    plt.show()\n",
    "    \n",
    "    return train_losses, val_losses, best_model_params, best_accuracy\n"
   ]
  },
  {
   "cell_type": "code",
   "execution_count": 41,
   "id": "0a1b2244",
   "metadata": {
    "execution": {
     "iopub.execute_input": "2024-02-18T09:09:59.255773Z",
     "iopub.status.busy": "2024-02-18T09:09:59.255419Z",
     "iopub.status.idle": "2024-02-18T09:09:59.261119Z",
     "shell.execute_reply": "2024-02-18T09:09:59.260273Z"
    },
    "papermill": {
     "duration": 0.02584,
     "end_time": "2024-02-18T09:09:59.262927",
     "exception": false,
     "start_time": "2024-02-18T09:09:59.237087",
     "status": "completed"
    },
    "tags": []
   },
   "outputs": [],
   "source": [
    "# def train(model, criterion, optimizer, train_dl, val_dl, epochs, lr_scheduler: StepLR=None):\n",
    "#     train_losses = []\n",
    "#     val_losses = []\n",
    "#     best_model_params = deepcopy(model.state_dict())\n",
    "#     best_accuracy = 0.0\n",
    "#     for epoch in range(epochs):\n",
    "#         print(f'Epoch {epoch+1}/{epochs}')\n",
    "#         print('-'*10)\n",
    "#         train_loss = 0\n",
    "#         val_loss = 0\n",
    "#         model.train() #set the model to training mode\n",
    "#         for x, y in train_dl: #x: (batch_size, 1, 187), y: (batch_size, 1)\n",
    "#             x = x.to(device)\n",
    "#             y = y.to(device)\n",
    "#             optimizer.zero_grad()\n",
    "#             output = model(x) #the output shape is (batch_size, 5) so it's a distribution over the 5 classes\n",
    "#             loss = criterion(output, y.squeeze())\n",
    "#             loss.backward()\n",
    "#             optimizer.step()\n",
    "#             train_loss += loss.item()*x.size(0)\n",
    "#         train_loss = train_loss/len(train_dl.dataset)\n",
    "#         train_losses.append(train_loss)\n",
    "#         lr_scheduler.step() #update the learning rate every n epochs\n",
    "#         model.eval() #set the model to evaluation mode\n",
    "#         corrects = 0 #in order to calculate accuracy we store the number of correct predictions\n",
    "#         for x, y in val_dl:\n",
    "#             x = x.to(device)\n",
    "#             y = y.to(device)\n",
    "#             output = model(x) #out shape: (batch_size, 5)\n",
    "#             loss = criterion(output, y.squeeze())\n",
    "#             val_loss += loss.item()*x.size(0)\n",
    "#             #calculate the number of correct predictions\n",
    "#             corrects += torch.sum(torch.argmax(output, dim=1) == y.squeeze()).item()\n",
    "#         val_loss = val_loss/len(val_dl.dataset)\n",
    "#         accuracy = corrects/len(val_dl.dataset)\n",
    "#         val_losses.append(val_loss)\n",
    "#         print(f'Train Loss: {train_loss:.4f} \\t Val Loss: {val_loss:.4f} \\t Val Accuracy: {accuracy:.4f}')\n",
    "#         #if the model performs better on the validation set, save the model parameters\n",
    "#         if accuracy > best_accuracy:\n",
    "#             best_accuracy = accuracy\n",
    "#             best_model_params = deepcopy(model.state_dict())\n",
    "#     print('Finished Training and the best accuracy is: {:.4f}'.format(best_accuracy))\n",
    "#     return train_losses, val_losses, best_model_params, best_accuracy"
   ]
  },
  {
   "cell_type": "code",
   "execution_count": 42,
   "id": "7c6e8e98",
   "metadata": {
    "execution": {
     "iopub.execute_input": "2024-02-18T09:09:59.298417Z",
     "iopub.status.busy": "2024-02-18T09:09:59.298075Z",
     "iopub.status.idle": "2024-02-18T09:11:39.041994Z",
     "shell.execute_reply": "2024-02-18T09:11:39.041071Z"
    },
    "papermill": {
     "duration": 99.764357,
     "end_time": "2024-02-18T09:11:39.044447",
     "exception": false,
     "start_time": "2024-02-18T09:09:59.280090",
     "status": "completed"
    },
    "tags": []
   },
   "outputs": [
    {
     "name": "stdout",
     "output_type": "stream",
     "text": [
      "Epoch 1/50\n",
      "----------\n",
      "Adjusting learning rate of group 0 to 1.0000e-03.\n",
      "Train Loss: 1.2389 \t Val Loss: 1.5555 \t Val Accuracy: 0.0890\n",
      "Epoch 2/50\n",
      "----------\n",
      "Adjusting learning rate of group 0 to 1.0000e-03.\n",
      "Train Loss: 0.8821 \t Val Loss: 1.4884 \t Val Accuracy: 0.0934\n",
      "Epoch 3/50\n",
      "----------\n",
      "Adjusting learning rate of group 0 to 1.0000e-03.\n",
      "Train Loss: 0.6959 \t Val Loss: 1.4665 \t Val Accuracy: 0.0954\n",
      "Epoch 4/50\n",
      "----------\n",
      "Adjusting learning rate of group 0 to 1.0000e-03.\n",
      "Train Loss: 0.6057 \t Val Loss: 1.4230 \t Val Accuracy: 0.0949\n",
      "Epoch 5/50\n",
      "----------\n",
      "Adjusting learning rate of group 0 to 1.0000e-03.\n",
      "Train Loss: 0.5592 \t Val Loss: 1.3736 \t Val Accuracy: 0.1590\n",
      "Epoch 6/50\n",
      "----------\n",
      "Adjusting learning rate of group 0 to 1.0000e-03.\n",
      "Train Loss: 0.4941 \t Val Loss: 1.2474 \t Val Accuracy: 0.4876\n",
      "Epoch 7/50\n",
      "----------\n",
      "Adjusting learning rate of group 0 to 1.0000e-03.\n",
      "Train Loss: 0.4011 \t Val Loss: 1.0209 \t Val Accuracy: 0.8658\n",
      "Epoch 8/50\n",
      "----------\n",
      "Adjusting learning rate of group 0 to 1.0000e-03.\n",
      "Train Loss: 0.3237 \t Val Loss: 0.7016 \t Val Accuracy: 0.9493\n",
      "Epoch 9/50\n",
      "----------\n",
      "Adjusting learning rate of group 0 to 1.0000e-03.\n",
      "Train Loss: 0.2373 \t Val Loss: 0.3616 \t Val Accuracy: 0.9665\n",
      "Epoch 10/50\n",
      "----------\n",
      "Adjusting learning rate of group 0 to 3.0000e-04.\n",
      "Train Loss: 0.1750 \t Val Loss: 0.1915 \t Val Accuracy: 0.9781\n",
      "Epoch 11/50\n",
      "----------\n",
      "Adjusting learning rate of group 0 to 3.0000e-04.\n",
      "Train Loss: 0.1408 \t Val Loss: 0.1687 \t Val Accuracy: 0.9842\n",
      "Epoch 12/50\n",
      "----------\n",
      "Adjusting learning rate of group 0 to 3.0000e-04.\n",
      "Train Loss: 0.1261 \t Val Loss: 0.1488 \t Val Accuracy: 0.9856\n",
      "Epoch 13/50\n",
      "----------\n",
      "Adjusting learning rate of group 0 to 3.0000e-04.\n",
      "Train Loss: 0.1189 \t Val Loss: 0.1408 \t Val Accuracy: 0.9850\n",
      "Epoch 14/50\n",
      "----------\n",
      "Adjusting learning rate of group 0 to 3.0000e-04.\n",
      "Train Loss: 0.1121 \t Val Loss: 0.1284 \t Val Accuracy: 0.9863\n",
      "Epoch 15/50\n",
      "----------\n",
      "Adjusting learning rate of group 0 to 3.0000e-04.\n",
      "Train Loss: 0.1048 \t Val Loss: 0.1199 \t Val Accuracy: 0.9863\n",
      "Epoch 16/50\n",
      "----------\n",
      "Adjusting learning rate of group 0 to 3.0000e-04.\n",
      "Train Loss: 0.0984 \t Val Loss: 0.1141 \t Val Accuracy: 0.9865\n",
      "Epoch 17/50\n",
      "----------\n",
      "Adjusting learning rate of group 0 to 3.0000e-04.\n",
      "Train Loss: 0.0935 \t Val Loss: 0.1082 \t Val Accuracy: 0.9872\n",
      "Epoch 18/50\n",
      "----------\n",
      "Adjusting learning rate of group 0 to 3.0000e-04.\n",
      "Train Loss: 0.0890 \t Val Loss: 0.1056 \t Val Accuracy: 0.9865\n",
      "Epoch 19/50\n",
      "----------\n",
      "Adjusting learning rate of group 0 to 3.0000e-04.\n",
      "Train Loss: 0.0838 \t Val Loss: 0.1032 \t Val Accuracy: 0.9864\n",
      "Epoch 20/50\n",
      "----------\n",
      "Adjusting learning rate of group 0 to 9.0000e-05.\n",
      "Train Loss: 0.0796 \t Val Loss: 0.1010 \t Val Accuracy: 0.9866\n",
      "Epoch 21/50\n",
      "----------\n",
      "Adjusting learning rate of group 0 to 9.0000e-05.\n",
      "Train Loss: 0.0769 \t Val Loss: 0.0958 \t Val Accuracy: 0.9876\n",
      "Epoch 22/50\n",
      "----------\n",
      "Adjusting learning rate of group 0 to 9.0000e-05.\n",
      "Train Loss: 0.0761 \t Val Loss: 0.0954 \t Val Accuracy: 0.9876\n",
      "Epoch 23/50\n",
      "----------\n",
      "Adjusting learning rate of group 0 to 9.0000e-05.\n",
      "Train Loss: 0.0753 \t Val Loss: 0.0946 \t Val Accuracy: 0.9877\n",
      "Epoch 24/50\n",
      "----------\n",
      "Adjusting learning rate of group 0 to 9.0000e-05.\n",
      "Train Loss: 0.0724 \t Val Loss: 0.0938 \t Val Accuracy: 0.9878\n",
      "Epoch 25/50\n",
      "----------\n",
      "Adjusting learning rate of group 0 to 9.0000e-05.\n",
      "Train Loss: 0.0717 \t Val Loss: 0.0948 \t Val Accuracy: 0.9874\n",
      "Epoch 26/50\n",
      "----------\n",
      "Adjusting learning rate of group 0 to 9.0000e-05.\n",
      "Train Loss: 0.0710 \t Val Loss: 0.0943 \t Val Accuracy: 0.9876\n",
      "Epoch 27/50\n",
      "----------\n",
      "Adjusting learning rate of group 0 to 9.0000e-05.\n",
      "Train Loss: 0.0695 \t Val Loss: 0.0932 \t Val Accuracy: 0.9872\n",
      "Epoch 28/50\n",
      "----------\n",
      "Adjusting learning rate of group 0 to 9.0000e-05.\n",
      "Train Loss: 0.0688 \t Val Loss: 0.0927 \t Val Accuracy: 0.9875\n",
      "Epoch 29/50\n",
      "----------\n",
      "Adjusting learning rate of group 0 to 9.0000e-05.\n",
      "Train Loss: 0.0671 \t Val Loss: 0.0925 \t Val Accuracy: 0.9875\n",
      "Epoch 30/50\n",
      "----------\n",
      "Adjusting learning rate of group 0 to 2.7000e-05.\n",
      "Train Loss: 0.0662 \t Val Loss: 0.0913 \t Val Accuracy: 0.9874\n",
      "Epoch 31/50\n",
      "----------\n",
      "Adjusting learning rate of group 0 to 2.7000e-05.\n",
      "Train Loss: 0.0663 \t Val Loss: 0.0916 \t Val Accuracy: 0.9877\n",
      "Epoch 32/50\n",
      "----------\n",
      "Adjusting learning rate of group 0 to 2.7000e-05.\n",
      "Train Loss: 0.0650 \t Val Loss: 0.0916 \t Val Accuracy: 0.9874\n",
      "Epoch 33/50\n",
      "----------\n",
      "Adjusting learning rate of group 0 to 2.7000e-05.\n",
      "Train Loss: 0.0652 \t Val Loss: 0.0912 \t Val Accuracy: 0.9877\n",
      "Epoch 34/50\n",
      "----------\n",
      "Adjusting learning rate of group 0 to 2.7000e-05.\n",
      "Train Loss: 0.0655 \t Val Loss: 0.0907 \t Val Accuracy: 0.9876\n",
      "Epoch 35/50\n",
      "----------\n",
      "Adjusting learning rate of group 0 to 2.7000e-05.\n",
      "Train Loss: 0.0644 \t Val Loss: 0.0911 \t Val Accuracy: 0.9878\n",
      "Epoch 36/50\n",
      "----------\n",
      "Adjusting learning rate of group 0 to 2.7000e-05.\n",
      "Train Loss: 0.0649 \t Val Loss: 0.0907 \t Val Accuracy: 0.9876\n",
      "Epoch 37/50\n",
      "----------\n",
      "Adjusting learning rate of group 0 to 2.7000e-05.\n",
      "Train Loss: 0.0642 \t Val Loss: 0.0906 \t Val Accuracy: 0.9878\n",
      "Epoch 38/50\n",
      "----------\n",
      "Adjusting learning rate of group 0 to 2.7000e-05.\n",
      "Train Loss: 0.0635 \t Val Loss: 0.0907 \t Val Accuracy: 0.9877\n",
      "Epoch 39/50\n",
      "----------\n",
      "Adjusting learning rate of group 0 to 2.7000e-05.\n",
      "Train Loss: 0.0634 \t Val Loss: 0.0906 \t Val Accuracy: 0.9876\n",
      "Epoch 40/50\n",
      "----------\n",
      "Adjusting learning rate of group 0 to 8.1000e-06.\n",
      "Train Loss: 0.0625 \t Val Loss: 0.0905 \t Val Accuracy: 0.9876\n",
      "Epoch 41/50\n",
      "----------\n",
      "Adjusting learning rate of group 0 to 8.1000e-06.\n",
      "Train Loss: 0.0624 \t Val Loss: 0.0905 \t Val Accuracy: 0.9876\n",
      "Epoch 42/50\n",
      "----------\n",
      "Adjusting learning rate of group 0 to 8.1000e-06.\n",
      "Train Loss: 0.0634 \t Val Loss: 0.0903 \t Val Accuracy: 0.9876\n",
      "Epoch 43/50\n",
      "----------\n",
      "Adjusting learning rate of group 0 to 8.1000e-06.\n",
      "Train Loss: 0.0616 \t Val Loss: 0.0902 \t Val Accuracy: 0.9877\n",
      "Epoch 44/50\n",
      "----------\n",
      "Adjusting learning rate of group 0 to 8.1000e-06.\n",
      "Train Loss: 0.0626 \t Val Loss: 0.0904 \t Val Accuracy: 0.9877\n",
      "Epoch 45/50\n",
      "----------\n",
      "Adjusting learning rate of group 0 to 8.1000e-06.\n",
      "Train Loss: 0.0620 \t Val Loss: 0.0903 \t Val Accuracy: 0.9877\n",
      "Epoch 46/50\n",
      "----------\n",
      "Adjusting learning rate of group 0 to 8.1000e-06.\n",
      "Train Loss: 0.0615 \t Val Loss: 0.0902 \t Val Accuracy: 0.9876\n",
      "Epoch 47/50\n",
      "----------\n",
      "Adjusting learning rate of group 0 to 8.1000e-06.\n",
      "Train Loss: 0.0624 \t Val Loss: 0.0900 \t Val Accuracy: 0.9874\n",
      "Epoch 48/50\n",
      "----------\n",
      "Adjusting learning rate of group 0 to 8.1000e-06.\n",
      "Train Loss: 0.0608 \t Val Loss: 0.0904 \t Val Accuracy: 0.9876\n",
      "Epoch 49/50\n",
      "----------\n",
      "Adjusting learning rate of group 0 to 8.1000e-06.\n",
      "Train Loss: 0.0620 \t Val Loss: 0.0901 \t Val Accuracy: 0.9877\n",
      "Epoch 50/50\n",
      "----------\n",
      "Adjusting learning rate of group 0 to 2.4300e-06.\n",
      "Train Loss: 0.0623 \t Val Loss: 0.0902 \t Val Accuracy: 0.9877\n",
      "Finished Training and the best accuracy is: 0.9878\n"
     ]
    },
    {
     "data": {
      "image/png": "[encoded data removed]",
      "text/plain": [
       "<Figure size 1000x500 with 1 Axes>"
      ]
     },
     "metadata": {},
     "output_type": "display_data"
    }
   ],
   "source": [
    "train_losses, val_losses, best_model_params, best_accuracy = train(model, criterion, optimizer, train_dl, val_dl, hyper_params['epochs'], lr_scheduler)"
   ]
  },
  {
   "cell_type": "code",
   "execution_count": 43,
   "id": "81f2e8ba",
   "metadata": {
    "execution": {
     "iopub.execute_input": "2024-02-18T09:11:39.099374Z",
     "iopub.status.busy": "2024-02-18T09:11:39.098616Z",
     "iopub.status.idle": "2024-02-18T09:11:39.277987Z",
     "shell.execute_reply": "2024-02-18T09:11:39.276962Z"
    },
    "papermill": {
     "duration": 0.207744,
     "end_time": "2024-02-18T09:11:39.280164",
     "exception": false,
     "start_time": "2024-02-18T09:11:39.072420",
     "status": "completed"
    },
    "tags": []
   },
   "outputs": [
    {
     "data": {
      "image/png": "[encoded data removed]",
      "text/plain": [
       "<Figure size 640x480 with 1 Axes>"
      ]
     },
     "metadata": {},
     "output_type": "display_data"
    }
   ],
   "source": [
    "#plot the training and validation losses with smooth lines\n",
    "plt.plot(np.convolve(train_losses, np.ones(3)/3, mode='valid'), label='train')\n",
    "plt.plot(np.convolve(val_losses, np.ones(3)/3, mode='valid'), label='val')\n",
    "plt.legend()\n",
    "plt.xlabel('Epochs')\n",
    "plt.ylabel('Loss')\n",
    "plt.show()"
   ]
  },
  {
   "cell_type": "code",
   "execution_count": 44,
   "id": "10343ad2",
   "metadata": {
    "execution": {
     "iopub.execute_input": "2024-02-18T09:11:39.333156Z",
     "iopub.status.busy": "2024-02-18T09:11:39.332391Z",
     "iopub.status.idle": "2024-02-18T09:11:39.350097Z",
     "shell.execute_reply": "2024-02-18T09:11:39.349269Z"
    },
    "papermill": {
     "duration": 0.046155,
     "end_time": "2024-02-18T09:11:39.352117",
     "exception": false,
     "start_time": "2024-02-18T09:11:39.305962",
     "status": "completed"
    },
    "tags": []
   },
   "outputs": [],
   "source": [
    "#load the best model parameters\n",
    "model.load_state_dict(best_model_params)\n",
    "#save the model to a file\n",
    "torch.save(model.state_dict(), f'best_model{best_accuracy:.2f}.pt')"
   ]
  },
  {
   "cell_type": "code",
   "execution_count": 45,
   "id": "1383d8eb",
   "metadata": {
    "execution": {
     "iopub.execute_input": "2024-02-18T09:11:39.403779Z",
     "iopub.status.busy": "2024-02-18T09:11:39.402993Z",
     "iopub.status.idle": "2024-02-18T09:11:39.431050Z",
     "shell.execute_reply": "2024-02-18T09:11:39.429959Z"
    },
    "papermill": {
     "duration": 0.056036,
     "end_time": "2024-02-18T09:11:39.433230",
     "exception": false,
     "start_time": "2024-02-18T09:11:39.377194",
     "status": "completed"
    },
    "tags": []
   },
   "outputs": [
    {
     "data": {
      "text/plain": [
       "<All keys matched successfully>"
      ]
     },
     "execution_count": 45,
     "metadata": {},
     "output_type": "execute_result"
    }
   ],
   "source": [
    "#use this cell to load weights from disk\n",
    "model = get_model().to(device=device)\n",
    "model.load_state_dict(torch.load('best_model0.99.pt'))"
   ]
  },
  {
   "cell_type": "code",
   "execution_count": 46,
   "id": "2c9d5b3e",
   "metadata": {
    "execution": {
     "iopub.execute_input": "2024-02-18T09:11:39.491651Z",
     "iopub.status.busy": "2024-02-18T09:11:39.491007Z",
     "iopub.status.idle": "2024-02-18T09:11:39.498828Z",
     "shell.execute_reply": "2024-02-18T09:11:39.497934Z"
    },
    "papermill": {
     "duration": 0.038516,
     "end_time": "2024-02-18T09:11:39.500672",
     "exception": false,
     "start_time": "2024-02-18T09:11:39.462156",
     "status": "completed"
    },
    "tags": []
   },
   "outputs": [],
   "source": [
    "#confusion matrix function\n",
    "def plot_cm(model, dl, categories, normalize='true'):\n",
    "    #plot the confusion matrix\n",
    "    model.eval()\n",
    "    y_pred = []\n",
    "    y_true = []\n",
    "    for x, y in dl:\n",
    "        x = x.to(device)\n",
    "        y = y.to(device)\n",
    "        output = model(x) #out shape: (batch_size, 5)\n",
    "        y_pred.extend(torch.argmax(output, dim=1).cpu().numpy())\n",
    "        y_true.extend(y.cpu().numpy())\n",
    "    cm = confusion_matrix(y_true, y_pred, normalize=normalize)\n",
    "    sns.heatmap(cm, annot=True, fmt= '.2f', cmap='Blues', xticklabels=categories.values(), yticklabels=categories.values())\n",
    "    plt.xlabel('Predicted')\n",
    "    plt.ylabel('True')\n",
    "    plt.show()\n",
    "    print(classification_report(y_true, y_pred, target_names=class_names.values()))"
   ]
  },
  {
   "cell_type": "code",
   "execution_count": 47,
   "id": "740110cd",
   "metadata": {
    "execution": {
     "iopub.execute_input": "2024-02-18T09:11:39.553370Z",
     "iopub.status.busy": "2024-02-18T09:11:39.552718Z",
     "iopub.status.idle": "2024-02-18T09:11:40.123053Z",
     "shell.execute_reply": "2024-02-18T09:11:40.122011Z"
    },
    "papermill": {
     "duration": 0.598642,
     "end_time": "2024-02-18T09:11:40.125196",
     "exception": false,
     "start_time": "2024-02-18T09:11:39.526554",
     "status": "completed"
    },
    "tags": []
   },
   "outputs": [
    {
     "data": {
      "image/png": "[encoded data removed]",
      "text/plain": [
       "<Figure size 640x480 with 2 Axes>"
      ]
     },
     "metadata": {},
     "output_type": "display_data"
    },
    {
     "name": "stdout",
     "output_type": "stream",
     "text": [
      "              precision    recall  f1-score   support\n",
      "\n",
      "           N       0.99      1.00      0.99     14516\n",
      "           S       0.95      0.81      0.88       440\n",
      "           V       0.97      0.96      0.97      1182\n",
      "           F       0.90      0.75      0.82       106\n",
      "           Q       0.99      0.99      0.99      1267\n",
      "\n",
      "    accuracy                           0.99     17511\n",
      "   macro avg       0.96      0.90      0.93     17511\n",
      "weighted avg       0.99      0.99      0.99     17511\n",
      "\n"
     ]
    }
   ],
   "source": [
    "#plot the confusion matrix using the validation set\n",
    "plot_cm(model, val_dl, class_names)"
   ]
  }
 ],
 "metadata": {
  "kaggle": {
   "accelerator": "gpu",
   "dataSources": [
    {
     "datasetId": 29414,
     "sourceId": 37484,
     "sourceType": "datasetVersion"
    }
   ],
   "dockerImageVersionId": 30646,
   "isGpuEnabled": true,
   "isInternetEnabled": true,
   "language": "python",
   "sourceType": "notebook"
  },
  "kernelspec": {
   "display_name": "Python 3",
   "language": "python",
   "name": "python3"
  },
  "language_info": {
   "codemirror_mode": {
    "name": "ipython",
    "version": 3
   },
   "file_extension": ".py",
   "mimetype": "text/x-python",
   "name": "python",
   "nbconvert_exporter": "python",
   "pygments_lexer": "ipython3",
   "version": "3.10.13"
  },
  "papermill": {
   "default_parameters": {},
   "duration": 149.301187,
   "end_time": "2024-02-18T09:11:42.884992",
   "environment_variables": {},
   "exception": null,
   "input_path": "__notebook__.ipynb",
   "output_path": "__notebook__.ipynb",
   "parameters": {},
   "start_time": "2024-02-18T09:09:13.583805",
   "version": "2.5.0"
  }
 },
 "nbformat": 4,
 "nbformat_minor": 5
}
